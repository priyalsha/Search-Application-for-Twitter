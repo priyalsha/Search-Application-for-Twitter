{
 "cells": [
  {
   "cell_type": "code",
   "execution_count": 1,
   "id": "fa916464",
   "metadata": {},
   "outputs": [],
   "source": [
    "import json\n",
    "import mysql.connector\n",
    "from datetime import datetime\n",
    "import time\n",
    "from flask import Flask, jsonify"
   ]
  },
  {
   "cell_type": "code",
   "execution_count": 2,
   "id": "12738b7c",
   "metadata": {},
   "outputs": [],
   "source": [
    "mydb = mysql.connector.connect(\n",
    "  host=\"localhost\",\n",
    "  user=\"root\",\n",
    "  password=\"password\",\n",
    "  database=\"twitter\"\n",
    ")\n",
    "cursor = mydb.cursor()"
   ]
  },
  {
   "cell_type": "code",
   "execution_count": null,
   "id": "359736e7",
   "metadata": {},
   "outputs": [],
   "source": [
    "#USER\n",
    "user_id = set()\n",
    "with open(\"corona-out-3\", \"r\") as f:\n",
    "    for line in f:\n",
    "        try:            \n",
    "            data = json.loads(line)\n",
    "            user = data[\"user\"]\n",
    "            id = user['id']\n",
    "            name = user['name']\n",
    "            screen_name = user['screen_name']\n",
    "            created_at = datetime.strptime(user['created_at'], '%a %b %d %H:%M:%S %z %Y')\n",
    "            created_at = created_at.strftime('%Y-%m-%d %H:%M:%S')\n",
    "            followers_count = user['followers_count']\n",
    "            location = user['location']\n",
    "            \n",
    "            if id not in user_id:\n",
    "                sql = \"INSERT INTO users (id, name, screen_name, created_at, followers_count, location) VALUES (%s, %s, %s, %s, %s, %s)\"\n",
    "                val = (id, name, screen_name, created_at, followers_count, location)\n",
    "                cursor.execute(sql, val)\n",
    "                mydb.commit()\n",
    "                user_id.add(id)\n",
    "            \n",
    "        except:\n",
    "            continue"
   ]
  },
  {
   "cell_type": "code",
   "execution_count": null,
   "id": "9b238d2f",
   "metadata": {},
   "outputs": [],
   "source": [
    "#TWEET\n",
    "tweet_id = set()\n",
    "with open(\"corona-out-3\", \"r\") as f:\n",
    "    for line in f:\n",
    "        try: \n",
    "            tweet = json.loads(line)\n",
    "            if \"retweeted_status\" not in tweet:\n",
    "                id = tweet['id']\n",
    "                tweet_text = tweet['text']\n",
    "                user_id = tweet['user']['id']\n",
    "                quote_count = tweet['quote_count']\n",
    "                reply_count = tweet['reply_count']\n",
    "                retweet_count = tweet['retweet_count']\n",
    "                favorite_count = tweet['favorite_count']\n",
    "                created_at = datetime.strptime(tweet['created_at'], '%a %b %d %H:%M:%S %z %Y')\n",
    "                created_at = created_at.strftime('%Y-%m-%d %H:%M:%S')       \n",
    "                language = tweet['lang']\n",
    "            else:\n",
    "                id = tweet['retweeted_status']['id']\n",
    "                tweet_text = tweet['retweeted_status']['text']\n",
    "                user_id = tweet['retweeted_status']['user']['id']\n",
    "                quote_count = tweet['retweeted_status']['quote_count']\n",
    "                reply_count = tweet['retweeted_status']['reply_count']\n",
    "                retweet_count = tweet['retweeted_status']['retweet_count']\n",
    "                favorite_count = tweet['retweeted_status']['favorite_count']\n",
    "                created_at = datetime.strptime(tweet['retweeted_status']['created_at'], '%a %b %d %H:%M:%S %z %Y')\n",
    "                created_at = created_at.strftime('%Y-%m-%d %H:%M:%S')       \n",
    "                language = tweet['retweeted_status']['lang']\n",
    "                \n",
    "            if id not in tweet_id:\n",
    "                sql = \"INSERT INTO tweets (id, tweet_text, user_id, quote_count, reply_count, retweet_count, favorite_count, created_at, language) VALUES (%s, %s, %s, %s, %s, %s, %s, %s, %s)\"\n",
    "                val = (id, tweet_text, user_id, quote_count, reply_count, retweet_count, favorite_count, created_at, language)\n",
    "                cursor.execute(sql, val)\n",
    "                mydb.commit()\n",
    "                tweet_id.add(id)\n",
    "                \n",
    "        except:\n",
    "            continue"
   ]
  },
  {
   "cell_type": "code",
   "execution_count": null,
   "id": "83a66878",
   "metadata": {
    "scrolled": false
   },
   "outputs": [],
   "source": [
    "#RETWEET\n",
    "with open(\"corona-out-3\", \"r\") as f:\n",
    "    for line in f:\n",
    "        try:\n",
    "            tweet = json.loads(line)\n",
    "            if \"retweeted_status\" in tweet:\n",
    "                retweet_id = tweet['id']\n",
    "                user_id = tweet['user']['id']\n",
    "                parent_tweet_id = tweet['retweeted_status']['id']\n",
    "                parent_user_id = tweet['retweeted_status']['user']['id']\n",
    "                created_at = datetime.strptime(tweet['created_at'], '%a %b %d %H:%M:%S %z %Y')\n",
    "                created_at = created_at.strftime('%Y-%m-%d %H:%M:%S')\n",
    "                \n",
    "                sql = \"INSERT INTO retweets (retweet_id, user_id, parent_tweet_id, parent_user_id, created_at) VALUES (%s, %s, %s, %s, %s)\"\n",
    "                val = (retweet_id, user_id, parent_tweet_id, parent_user_id, created_at)\n",
    "                cursor.execute(sql, val)\n",
    "                mydb.commit()\n",
    "        except:\n",
    "            continue"
   ]
  },
  {
   "cell_type": "code",
   "execution_count": null,
   "id": "1ea40c98",
   "metadata": {},
   "outputs": [],
   "source": [
    "#Hashtags\n",
    "with open(\"corona-out-3\", \"r\") as f:\n",
    "    for line in f:\n",
    "        try:\n",
    "            data = json.loads(line)\n",
    "            if \"retweeted_status\" in data:\n",
    "                for i in data['retweeted_status']['extended_tweet']['entities']['hashtags']:\n",
    "                    hashtag_text = i['text']\n",
    "                    created_at = datetime.strptime(data['retweeted_status']['created_at'], '%a %b %d %H:%M:%S %z %Y')\n",
    "                    created_at = created_at.strftime('%Y-%m-%d %H:%M:%S')\n",
    "                    tweet_id = data['retweeted_status']['id']\n",
    "\n",
    "                    sql = \"INSERT INTO hashtags (hashtag_text, created_at, tweet_id) VALUES (%s, %s, %s)\"\n",
    "                    val = (hashtag_text, created_at, tweet_id)\n",
    "                    cursor.execute(sql, val)\n",
    "                    mydb.commit()\n",
    "                    \n",
    "        except:\n",
    "            continue"
   ]
  },
  {
   "cell_type": "code",
   "execution_count": null,
   "id": "99699442",
   "metadata": {},
   "outputs": [
    {
     "name": "stdout",
     "output_type": "stream",
     "text": [
      " * Serving Flask app \"__main__\" (lazy loading)\n",
      " * Environment: production\n",
      "\u001b[31m   WARNING: This is a development server. Do not use it in a production deployment.\u001b[0m\n",
      "\u001b[2m   Use a production WSGI server instead.\u001b[0m\n",
      " * Debug mode: off\n"
     ]
    },
    {
     "name": "stderr",
     "output_type": "stream",
     "text": [
      " * Running on http://127.0.0.1:5001/ (Press CTRL+C to quit)\n",
      "127.0.0.1 - - [26/Apr/2023 16:12:10] \"GET / HTTP/1.1\" 404 -\n",
      "127.0.0.1 - - [26/Apr/2023 16:12:15] \"GET /users/Popular-Hashtags/2020-04-01/2020-05-01 HTTP/1.1\" 200 -\n",
      "127.0.0.1 - - [26/Apr/2023 16:12:24] \"GET /users/Popular-Hashtags/2020-04-01/2020-05-01 HTTP/1.1\" 200 -\n"
     ]
    }
   ],
   "source": [
    "#Average Likes Per Tweet\n",
    "\n",
    "app = Flask(__name__)\n",
    "\n",
    "@app.route('/users/Popular-Hashtags/<string:name1>/<string:name2>', methods=['GET'])\n",
    "def get_user(name1, name2):\n",
    "    try:\n",
    "        query = \"SELECT hashtag_text, COUNT(*) as count FROM hashtags WHERE DATE(created_at) >= %s AND DATE(created_at) < %s GROUP BY hashtag_text ORDER BY count DESC LIMIT 10;\"\n",
    "        cursor.execute(query, (name1,name2))\n",
    "        result = cursor.fetchall()\n",
    "\n",
    "        # Create a list of dictionaries representing the data\n",
    "        data = []\n",
    "        for row in result:\n",
    "            item = {\n",
    "                'hashtag_text': row[0],\n",
    "                'count': int(row[1]),\n",
    "            }\n",
    "            data.append(item)\n",
    "\n",
    "        return jsonify(data)\n",
    "    except Exception as e:\n",
    "        # Handle exceptions\n",
    "        return jsonify({'error': str(e)})\n",
    "\n",
    "# Run the Flask application\n",
    "if __name__ == '__main__':\n",
    "    app.run(port=5001)"
   ]
  },
  {
   "cell_type": "code",
   "execution_count": null,
   "id": "c115c2f0",
   "metadata": {},
   "outputs": [],
   "source": [
    "#Top 10 users\n",
    "start_time = time.time()\n",
    "\n",
    "query = \"select * from users order by followers_count DESC LIMIT 10;\"\n",
    "cursor.execute(query)\n",
    "\n",
    "for row in cursor.fetchall():\n",
    "    print(row)\n",
    "\n",
    "end_time = time.time()\n",
    "execution_time = end_time - start_time\n",
    "print(\"Execution time:\", execution_time, \"seconds\")"
   ]
  },
  {
   "cell_type": "code",
   "execution_count": null,
   "id": "c9c9f519",
   "metadata": {},
   "outputs": [],
   "source": [
    "#Test\n",
    "hashtags = {}\n",
    "with open(\"corona-out-3\", \"r\") as f:\n",
    "    for line in f:\n",
    "        try:\n",
    "            data = json.loads(line)\n",
    "            if \"retweeted_status\" in data:\n",
    "                for i in data['retweeted_status']['extended_tweet']['entities']['hashtags']:\n",
    "                    if i['text'] not in hashtags:\n",
    "                        hashtags[i['text']] = 1\n",
    "                    else:\n",
    "                        hashtags[i['text']] += 1\n",
    "\n",
    "        except:\n",
    "            continue"
   ]
  },
  {
   "cell_type": "code",
   "execution_count": null,
   "id": "9c597558",
   "metadata": {},
   "outputs": [],
   "source": [
    "len(hashtags)"
   ]
  },
  {
   "cell_type": "code",
   "execution_count": null,
   "id": "31675c82",
   "metadata": {},
   "outputs": [],
   "source": [
    "#Unique users\n",
    "users = set()\n",
    "total_tweets = 0\n",
    "retweet_cnt = 0\n",
    "with open(\"corona-out-3\", \"r\") as f:\n",
    "    for line in f:\n",
    "        try:            \n",
    "            data = json.loads(line)\n",
    "            if \"retweeted_status\" in data:\n",
    "                retweet_cnt += 1\n",
    "            user_id = data[\"user\"][\"id\"]\n",
    "            users.add(user_id)\n",
    "            total_tweets += 1\n",
    "        except:\n",
    "            continue"
   ]
  },
  {
   "cell_type": "code",
   "execution_count": null,
   "id": "2e1a68b0",
   "metadata": {},
   "outputs": [],
   "source": [
    "print(len(users))"
   ]
  },
  {
   "cell_type": "code",
   "execution_count": null,
   "id": "00086b83",
   "metadata": {},
   "outputs": [],
   "source": [
    "total_tweets"
   ]
  },
  {
   "cell_type": "code",
   "execution_count": null,
   "id": "7ef06c1d",
   "metadata": {},
   "outputs": [],
   "source": [
    "retweet_cnt"
   ]
  },
  {
   "cell_type": "code",
   "execution_count": null,
   "id": "371c3080",
   "metadata": {},
   "outputs": [],
   "source": [
    "#Original Tweets: 51K\n",
    "#Unique Hashtags: 6.7K\n",
    "#Unique Users: 81K\n",
    "#Retweets: 61K"
   ]
  }
 ],
 "metadata": {
  "kernelspec": {
   "display_name": "Python 3 (ipykernel)",
   "language": "python",
   "name": "python3"
  },
  "language_info": {
   "codemirror_mode": {
    "name": "ipython",
    "version": 3
   },
   "file_extension": ".py",
   "mimetype": "text/x-python",
   "name": "python",
   "nbconvert_exporter": "python",
   "pygments_lexer": "ipython3",
   "version": "3.9.7"
  }
 },
 "nbformat": 4,
 "nbformat_minor": 5
}
